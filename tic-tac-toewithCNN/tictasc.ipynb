{
 "cells": [
  {
   "cell_type": "code",
   "execution_count": 29,
   "metadata": {},
   "outputs": [],
   "source": [
    "import numpy as np\n",
    "import pandas as pd\n",
    "import matplotlib.pyplot as plt\n",
    "import seaborn as sns\n",
    "import tensorflow as tf\n",
    "from tensorflow import keras\n",
    "from sklearn.model_selection import train_test_split\n",
    "TF_USE_LEGACY_KERAS=1\n",
    "version_fn = getattr(tf.keras, \"version\", None)\n",
    "if version_fn and version_fn().startswith(\"3.\"):\n",
    "  import tf_keras as keras\n",
    "else:\n",
    "  keras = tf.keras"
   ]
  },
  {
   "cell_type": "code",
   "execution_count": 30,
   "metadata": {},
   "outputs": [
    {
     "name": "stdout",
     "output_type": "stream",
     "text": [
      "1. Title: Tic-Tac-Toe Endgame database\n",
      "\n",
      "2. Source Information\n",
      "   -- Creator: David W. Aha (aha@cs.jhu.edu)\n",
      "   -- Donor: David W. Aha (aha@cs.jhu.edu)\n",
      "   -- Date: 19 August 1991\n",
      " \n",
      "3. Known Past Usage: \n",
      "   1. Matheus,~C.~J., \\& Rendell,~L.~A. (1989).  Constructive\n",
      "      induction on decision trees.  In {\\it Proceedings of the\n",
      "      Eleventh International Joint Conference on Artificial Intelligence} \n",
      "      (pp. 645--650).  Detroit, MI: Morgan Kaufmann.\n",
      "      -- CITRE was applied to 100-instance training and 200-instance test\n",
      "         sets.  In a study using various amounts of domain-specific\n",
      "         knowledge, its highest average accuracy was 76.7% (using the\n",
      "         final decision tree created for testing).\n",
      "\n",
      "   2. Matheus,~C.~J. (1990). Adding domain knowledge to SBL through\n",
      "      feature construction.  In {\\it Proceedings of the Eighth National\n",
      "      Conference on Artificial Intelligence} (pp. 803--808). \n",
      "      Boston, MA: AAAI Press.\n",
      "      -- Similar experiments with CITRE, includes learning curves up\n",
      "         to 500-instance training sets but used _all_ instances in the\n",
      "         database for testing.  Accuracies reached above 90%, but specific\n",
      "         values are not given (see Chris's dissertation for more details).\n",
      "\n",
      "   3. Aha,~D.~W. (1991). Incremental constructive induction: An instance-based\n",
      "      approach.  In {\\it Proceedings of the Eighth International Workshop\n",
      "      on Machine Learning} (pp. 117--121).  Evanston, ILL: Morgan Kaufmann.\n",
      "      -- Used 70% for training, 30% of the instances for testing, evaluated\n",
      "         over 10 trials.  Results reported for six algorithms:\n",
      "         -- NewID:   84.0%\n",
      "         -- CN2:     98.1%  \n",
      "         -- MBRtalk: 88.4%\n",
      "         -- IB1:     98.1% \n",
      "         -- IB3:     82.0%\n",
      "         -- IB3-CI:  99.1%\n",
      "      -- Results also reported when adding an additional 10 irrelevant \n",
      "         ternary-valued attributes; similar _relative_ results except that\n",
      "         IB1's performance degraded more quickly than the others.\n",
      "\n",
      "4. Relevant Information:\n",
      "\n",
      "   This database encodes the complete set of possible board configurations\n",
      "   at the end of tic-tac-toe games, where \"x\" is assumed to have played\n",
      "   first.  The target concept is \"win for x\" (i.e., true when \"x\" has one\n",
      "   of 8 possible ways to create a \"three-in-a-row\").  \n",
      "\n",
      "   Interestingly, this raw database gives a stripped-down decision tree\n",
      "   algorithm (e.g., ID3) fits.  However, the rule-based CN2 algorithm, the\n",
      "   simple IB1 instance-based learning algorithm, and the CITRE \n",
      "   feature-constructing decision tree algorithm perform well on it.\n",
      "\n",
      "5. Number of Instances: 958 (legal tic-tac-toe endgame boards)\n",
      "\n",
      "6. Number of Attributes: 9, each corresponding to one tic-tac-toe square\n",
      "\n",
      "7. Attribute Information: (x=player x has taken, o=player o has taken, b=blank)\n",
      "\n",
      "    1. top-left-square: {x,o,b}\n",
      "    2. top-middle-square: {x,o,b}\n",
      "    3. top-right-square: {x,o,b}\n",
      "    4. middle-left-square: {x,o,b}\n",
      "    5. middle-middle-square: {x,o,b}\n",
      "    6. middle-right-square: {x,o,b}\n",
      "    7. bottom-left-square: {x,o,b}\n",
      "    8. bottom-middle-square: {x,o,b}\n",
      "    9. bottom-right-square: {x,o,b}\n",
      "   10. Class: {positive,negative}\n",
      "\n",
      "8. Missing Attribute Values: None\n",
      "\n",
      "9. Class Distribution: About 65.3% are positive (i.e., wins for \"x\")\n",
      "\n"
     ]
    }
   ],
   "source": [
    "with open('tic-tac-toe.names', 'r') as f:\n",
    "    print(f.read())"
   ]
  },
  {
   "cell_type": "code",
   "execution_count": 31,
   "metadata": {},
   "outputs": [
    {
     "data": {
      "text/html": [
       "<div>\n",
       "<style scoped>\n",
       "    .dataframe tbody tr th:only-of-type {\n",
       "        vertical-align: middle;\n",
       "    }\n",
       "\n",
       "    .dataframe tbody tr th {\n",
       "        vertical-align: top;\n",
       "    }\n",
       "\n",
       "    .dataframe thead th {\n",
       "        text-align: right;\n",
       "    }\n",
       "</style>\n",
       "<table border=\"1\" class=\"dataframe\">\n",
       "  <thead>\n",
       "    <tr style=\"text-align: right;\">\n",
       "      <th></th>\n",
       "      <th>x11</th>\n",
       "      <th>x12</th>\n",
       "      <th>x13</th>\n",
       "      <th>x21</th>\n",
       "      <th>x22</th>\n",
       "      <th>x23</th>\n",
       "      <th>x31</th>\n",
       "      <th>x32</th>\n",
       "      <th>x33</th>\n",
       "      <th>target</th>\n",
       "    </tr>\n",
       "  </thead>\n",
       "  <tbody>\n",
       "    <tr>\n",
       "      <th>0</th>\n",
       "      <td>x</td>\n",
       "      <td>x</td>\n",
       "      <td>x</td>\n",
       "      <td>x</td>\n",
       "      <td>o</td>\n",
       "      <td>o</td>\n",
       "      <td>x</td>\n",
       "      <td>o</td>\n",
       "      <td>o</td>\n",
       "      <td>positive</td>\n",
       "    </tr>\n",
       "    <tr>\n",
       "      <th>1</th>\n",
       "      <td>x</td>\n",
       "      <td>x</td>\n",
       "      <td>x</td>\n",
       "      <td>x</td>\n",
       "      <td>o</td>\n",
       "      <td>o</td>\n",
       "      <td>o</td>\n",
       "      <td>x</td>\n",
       "      <td>o</td>\n",
       "      <td>positive</td>\n",
       "    </tr>\n",
       "    <tr>\n",
       "      <th>2</th>\n",
       "      <td>x</td>\n",
       "      <td>x</td>\n",
       "      <td>x</td>\n",
       "      <td>x</td>\n",
       "      <td>o</td>\n",
       "      <td>o</td>\n",
       "      <td>o</td>\n",
       "      <td>o</td>\n",
       "      <td>x</td>\n",
       "      <td>positive</td>\n",
       "    </tr>\n",
       "    <tr>\n",
       "      <th>3</th>\n",
       "      <td>x</td>\n",
       "      <td>x</td>\n",
       "      <td>x</td>\n",
       "      <td>x</td>\n",
       "      <td>o</td>\n",
       "      <td>o</td>\n",
       "      <td>o</td>\n",
       "      <td>b</td>\n",
       "      <td>b</td>\n",
       "      <td>positive</td>\n",
       "    </tr>\n",
       "    <tr>\n",
       "      <th>4</th>\n",
       "      <td>x</td>\n",
       "      <td>x</td>\n",
       "      <td>x</td>\n",
       "      <td>x</td>\n",
       "      <td>o</td>\n",
       "      <td>o</td>\n",
       "      <td>b</td>\n",
       "      <td>o</td>\n",
       "      <td>b</td>\n",
       "      <td>positive</td>\n",
       "    </tr>\n",
       "  </tbody>\n",
       "</table>\n",
       "</div>"
      ],
      "text/plain": [
       "  x11 x12 x13 x21 x22 x23 x31 x32 x33    target\n",
       "0   x   x   x   x   o   o   x   o   o  positive\n",
       "1   x   x   x   x   o   o   o   x   o  positive\n",
       "2   x   x   x   x   o   o   o   o   x  positive\n",
       "3   x   x   x   x   o   o   o   b   b  positive\n",
       "4   x   x   x   x   o   o   b   o   b  positive"
      ]
     },
     "execution_count": 31,
     "metadata": {},
     "output_type": "execute_result"
    }
   ],
   "source": [
    "names = ['x11', 'x12', 'x13', 'x21', 'x22', 'x23', 'x31', 'x32', 'x33', 'target']\n",
    "df = pd.read_csv('tic-tac-toe.data', names=names, sep=',')\n",
    "df.head()"
   ]
  },
  {
   "cell_type": "code",
   "execution_count": 32,
   "metadata": {},
   "outputs": [],
   "source": [
    "x = df.drop('target', axis=1)\n",
    "y = df['target']"
   ]
  },
  {
   "cell_type": "code",
   "execution_count": 33,
   "metadata": {},
   "outputs": [],
   "source": [
    "x_train, x_test, y_train, y_test = train_test_split(x, y, test_size=0.3, shuffle=True)"
   ]
  },
  {
   "cell_type": "code",
   "execution_count": 34,
   "metadata": {},
   "outputs": [],
   "source": [
    "mapping = {\"x\":1, \"o\":0, \"b\":0.5}\n",
    "for col in x_train.columns:\n",
    "    x_train[col] = x_train[col].map(mapping)\n",
    "\n",
    "for col in x_test.columns:\n",
    "    x_test[col] = x_test[col].map(mapping)"
   ]
  },
  {
   "cell_type": "code",
   "execution_count": 35,
   "metadata": {},
   "outputs": [],
   "source": [
    "train = x_train.iloc[:].to_numpy()\n",
    "test = x_test.iloc[:].to_numpy()"
   ]
  },
  {
   "cell_type": "code",
   "execution_count": 36,
   "metadata": {},
   "outputs": [],
   "source": [
    "train_arr = []\n",
    "for i in range(len(train)):\n",
    "    train_arr.append(train[i].reshape(3,3))\n",
    "\n",
    "test_arr = []\n",
    "for i in range(len(test)):\n",
    "    test_arr.append(test[i].reshape(3,3))"
   ]
  },
  {
   "cell_type": "code",
   "execution_count": 37,
   "metadata": {},
   "outputs": [],
   "source": [
    "train_arr = np.array(train_arr)\n",
    "test_arr = np.array(test_arr)"
   ]
  },
  {
   "cell_type": "code",
   "execution_count": 38,
   "metadata": {},
   "outputs": [],
   "source": [
    "target_map = {'positive':1, 'negative':0}\n",
    "y_test = y_test.map(target_map)\n",
    "y_train = y_train.map(target_map)"
   ]
  },
  {
   "cell_type": "code",
   "execution_count": 39,
   "metadata": {},
   "outputs": [
    {
     "data": {
      "image/png": "[encoded data removed]",
      "text/plain": [
       "<Figure size 640x480 with 1 Axes>"
      ]
     },
     "metadata": {},
     "output_type": "display_data"
    }
   ],
   "source": [
    "plt.imshow(train_arr[0])\n",
    "plt.show()"
   ]
  },
  {
   "cell_type": "code",
   "execution_count": 40,
   "metadata": {},
   "outputs": [],
   "source": [
    "class CNNBlock(keras.layers.Layer):\n",
    "    def __init__(self, out_channels, kernel_size=3):\n",
    "        super(CNNBlock, self).__init__()\n",
    "        self.conv = keras.layers.Conv2D(out_channels, kernel_size, padding=\"same\")\n",
    "        self.bn = keras.layers.BatchNormalization()\n",
    "    def __call__(self,inputs, training=False):\n",
    "        x = self.conv(inputs)\n",
    "        x = self.bn(x, training=training)\n",
    "        x = tf.nn.relu(x)\n",
    "        return x"
   ]
  },
  {
   "cell_type": "code",
   "execution_count": 43,
   "metadata": {},
   "outputs": [],
   "source": [
    "model = keras.Sequential([\n",
    "    keras.layers.InputLayer(input_shape=(3,3,1)),\n",
    "    CNNBlock(16),\n",
    "    CNNBlock(32),\n",
    "    CNNBlock(64),\n",
    "    keras.layers.Flatten(),\n",
    "    keras.layers.Dense(128),\n",
    "    keras.layers.Dropout(0.2),\n",
    "    keras.layers.Dense(256),\n",
    "    keras.layers.Dense(1, activation='sigmoid')\n",
    "])\n",
    "\n",
    "model.compile(\n",
    "    loss=tf.keras.losses.BinaryCrossentropy(),\n",
    "    optimizer=keras.optimizers.Adam(),\n",
    "    metrics=['accuracy']\n",
    ")"
   ]
  },
  {
   "cell_type": "code",
   "execution_count": 44,
   "metadata": {},
   "outputs": [],
   "source": [
    "y_test = np.asarray(y_test).reshape(-1,1)\n",
    "y_train = np.asarray(y_train).reshape(-1,1)"
   ]
  },
  {
   "cell_type": "code",
   "execution_count": 45,
   "metadata": {},
   "outputs": [],
   "source": [
    "test_arr = test_arr.reshape(-1, 3, 3, 1)\n",
    "train_arr = train_arr.reshape(-1, 3, 3, 1)"
   ]
  },
  {
   "cell_type": "code",
   "execution_count": 46,
   "metadata": {},
   "outputs": [
    {
     "name": "stdout",
     "output_type": "stream",
     "text": [
      "Epoch 1/10\n",
      "WARNING:tensorflow:From C:\\Users\\caner\\AppData\\Roaming\\Python\\Python310\\site-packages\\tensorflow\\python\\autograph\\converters\\directives.py:126: The name tf.ragged.RaggedTensorValue is deprecated. Please use tf.compat.v1.ragged.RaggedTensorValue instead.\n",
      "\n",
      "WARNING:tensorflow:From C:\\Users\\caner\\AppData\\Roaming\\Python\\Python310\\site-packages\\tf_keras\\src\\engine\\base_layer_utils.py:384: The name tf.executing_eagerly_outside_functions is deprecated. Please use tf.compat.v1.executing_eagerly_outside_functions instead.\n",
      "\n",
      "21/21 [==============================] - 22s 6ms/step - loss: 0.5915 - accuracy: 0.6940\n",
      "Epoch 2/10\n",
      "21/21 [==============================] - 0s 5ms/step - loss: 0.5283 - accuracy: 0.7328\n",
      "Epoch 3/10\n",
      "21/21 [==============================] - 0s 5ms/step - loss: 0.4300 - accuracy: 0.7940\n",
      "Epoch 4/10\n",
      "21/21 [==============================] - 0s 6ms/step - loss: 0.2769 - accuracy: 0.8970\n",
      "Epoch 5/10\n",
      "21/21 [==============================] - 0s 5ms/step - loss: 0.1197 - accuracy: 0.9552\n",
      "Epoch 6/10\n",
      "21/21 [==============================] - 0s 5ms/step - loss: 0.0441 - accuracy: 0.9925\n",
      "Epoch 7/10\n",
      "21/21 [==============================] - 0s 5ms/step - loss: 0.0335 - accuracy: 0.9910\n",
      "Epoch 8/10\n",
      "21/21 [==============================] - 0s 5ms/step - loss: 0.0305 - accuracy: 0.9940\n",
      "Epoch 9/10\n",
      "21/21 [==============================] - 0s 5ms/step - loss: 0.0109 - accuracy: 0.9985\n",
      "Epoch 10/10\n",
      "21/21 [==============================] - 0s 5ms/step - loss: 0.0083 - accuracy: 1.0000\n",
      "9/9 [==============================] - 1s 3ms/step - loss: 0.1136 - accuracy: 0.9653\n"
     ]
    },
    {
     "data": {
      "text/plain": [
       "[0.1135663092136383, 0.9652777910232544]"
      ]
     },
     "execution_count": 46,
     "metadata": {},
     "output_type": "execute_result"
    }
   ],
   "source": [
    "model.fit(train_arr, y_train, epochs=10, verbose=1)\n",
    "model.evaluate(test_arr, y_test)"
   ]
  },
  {
   "cell_type": "code",
   "execution_count": null,
   "metadata": {},
   "outputs": [],
   "source": []
  }
 ],
 "metadata": {
  "kernelspec": {
   "display_name": "ml_env",
   "language": "python",
   "name": "python3"
  },
  "language_info": {
   "codemirror_mode": {
    "name": "ipython",
    "version": 3
   },
   "file_extension": ".py",
   "mimetype": "text/x-python",
   "name": "python",
   "nbconvert_exporter": "python",
   "pygments_lexer": "ipython3",
   "version": "3.10.13"
  }
 },
 "nbformat": 4,
 "nbformat_minor": 2
}
